{
  "nbformat": 4,
  "nbformat_minor": 0,
  "metadata": {
    "colab": {
      "provenance": [],
      "authorship_tag": "ABX9TyNkddDYQ8Ugh88I0nxvoWWq",
      "include_colab_link": true
    },
    "kernelspec": {
      "name": "python3",
      "display_name": "Python 3"
    },
    "language_info": {
      "name": "python"
    }
  },
  "cells": [
    {
      "cell_type": "markdown",
      "metadata": {
        "id": "view-in-github",
        "colab_type": "text"
      },
      "source": [
        "<a href=\"https://colab.research.google.com/github/hiteshkukreja100/Call_Quality_Analyser/blob/main/Call_Quality_Analyser.ipynb\" target=\"_parent\"><img src=\"https://colab.research.google.com/assets/colab-badge.svg\" alt=\"Open In Colab\"/></a>"
      ]
    },
    {
      "cell_type": "markdown",
      "source": [
        "## Download Audio from Youtube"
      ],
      "metadata": {
        "id": "E6OPosmyGipc"
      }
    },
    {
      "cell_type": "code",
      "execution_count": 1,
      "metadata": {
        "id": "Xy8jbVgZFXDB",
        "colab": {
          "base_uri": "https://localhost:8080/"
        },
        "outputId": "7a71f6a3-30f7-4c9b-e5a5-4487ebb12008"
      },
      "outputs": [
        {
          "output_type": "stream",
          "name": "stdout",
          "text": [
            "Collecting yt-dlp\n",
            "  Downloading yt_dlp-2025.9.5-py3-none-any.whl.metadata (177 kB)\n",
            "\u001b[2K     \u001b[90m━━━━━━━━━━━━━━━━━━━━━━━━━━━━━━━━━━━━━\u001b[0m \u001b[32m177.1/177.1 kB\u001b[0m \u001b[31m934.6 kB/s\u001b[0m eta \u001b[36m0:00:00\u001b[0m\n",
            "\u001b[?25hDownloading yt_dlp-2025.9.5-py3-none-any.whl (3.3 MB)\n",
            "\u001b[2K   \u001b[90m━━━━━━━━━━━━━━━━━━━━━━━━━━━━━━━━━━━━━━━━\u001b[0m \u001b[32m3.3/3.3 MB\u001b[0m \u001b[31m13.4 MB/s\u001b[0m eta \u001b[36m0:00:00\u001b[0m\n",
            "\u001b[?25hInstalling collected packages: yt-dlp\n",
            "Successfully installed yt-dlp-2025.9.5\n"
          ]
        }
      ],
      "source": [
        "!pip install yt-dlp"
      ]
    },
    {
      "cell_type": "code",
      "source": [
        "import yt_dlp\n",
        "import os\n",
        "\n",
        "def download_audio_from_youtube(url, output_dir=\"downloads\"):\n",
        "    os.makedirs(output_dir, exist_ok=True)\n",
        "    output_path = os.path.join(output_dir, \"%(id)s.%(ext)s\")\n",
        "\n",
        "    ydl_opts = {\n",
        "        'format': 'bestaudio/best',\n",
        "        'outtmpl': output_path,\n",
        "        'quiet': True,\n",
        "        'postprocessors': [\n",
        "            {'key': 'FFmpegExtractAudio', 'preferredcodec': 'wav', 'preferredquality': '192'},\n",
        "        ],\n",
        "    }\n",
        "\n",
        "    with yt_dlp.YoutubeDL(ydl_opts) as ydl:\n",
        "        info = ydl.extract_info(url, download=True)\n",
        "        audio_path = os.path.join(output_dir, f\"{info['id']}.wav\")\n",
        "\n",
        "    return audio_path"
      ],
      "metadata": {
        "id": "zItJwWfXG4n9"
      },
      "execution_count": 10,
      "outputs": []
    },
    {
      "cell_type": "code",
      "source": [
        "youtube_url = \"https://www.youtube.com/watch?v=4ostqJD3Psc\"  # enter your youtube url\n",
        "\n",
        "raw_audio = download_audio_from_youtube(youtube_url)\n",
        "print(f\"Raw audio saved at: {raw_audio}\")"
      ],
      "metadata": {
        "colab": {
          "base_uri": "https://localhost:8080/"
        },
        "id": "kJa5JezPHOvA",
        "outputId": "4aab5cf4-20ba-4560-9e78-447945c304d3"
      },
      "execution_count": 11,
      "outputs": [
        {
          "output_type": "stream",
          "name": "stdout",
          "text": [
            "Raw audio saved at: downloads/4ostqJD3Psc.wav\n"
          ]
        }
      ]
    },
    {
      "cell_type": "markdown",
      "source": [
        "## Audio Pre Processing"
      ],
      "metadata": {
        "id": "EqQfv07CJqjm"
      }
    },
    {
      "cell_type": "code",
      "source": [
        "!pip install librosa soundfile"
      ],
      "metadata": {
        "colab": {
          "base_uri": "https://localhost:8080/"
        },
        "id": "-cRgJM6mJasU",
        "outputId": "f643f677-648e-4c7e-e3c2-954b18bc4a93"
      },
      "execution_count": 4,
      "outputs": [
        {
          "output_type": "stream",
          "name": "stdout",
          "text": [
            "Requirement already satisfied: librosa in /usr/local/lib/python3.12/dist-packages (0.11.0)\n",
            "Requirement already satisfied: soundfile in /usr/local/lib/python3.12/dist-packages (0.13.1)\n",
            "Requirement already satisfied: audioread>=2.1.9 in /usr/local/lib/python3.12/dist-packages (from librosa) (3.0.1)\n",
            "Requirement already satisfied: numba>=0.51.0 in /usr/local/lib/python3.12/dist-packages (from librosa) (0.60.0)\n",
            "Requirement already satisfied: numpy>=1.22.3 in /usr/local/lib/python3.12/dist-packages (from librosa) (2.0.2)\n",
            "Requirement already satisfied: scipy>=1.6.0 in /usr/local/lib/python3.12/dist-packages (from librosa) (1.16.1)\n",
            "Requirement already satisfied: scikit-learn>=1.1.0 in /usr/local/lib/python3.12/dist-packages (from librosa) (1.6.1)\n",
            "Requirement already satisfied: joblib>=1.0 in /usr/local/lib/python3.12/dist-packages (from librosa) (1.5.2)\n",
            "Requirement already satisfied: decorator>=4.3.0 in /usr/local/lib/python3.12/dist-packages (from librosa) (4.4.2)\n",
            "Requirement already satisfied: pooch>=1.1 in /usr/local/lib/python3.12/dist-packages (from librosa) (1.8.2)\n",
            "Requirement already satisfied: soxr>=0.3.2 in /usr/local/lib/python3.12/dist-packages (from librosa) (0.5.0.post1)\n",
            "Requirement already satisfied: typing_extensions>=4.1.1 in /usr/local/lib/python3.12/dist-packages (from librosa) (4.15.0)\n",
            "Requirement already satisfied: lazy_loader>=0.1 in /usr/local/lib/python3.12/dist-packages (from librosa) (0.4)\n",
            "Requirement already satisfied: msgpack>=1.0 in /usr/local/lib/python3.12/dist-packages (from librosa) (1.1.1)\n",
            "Requirement already satisfied: cffi>=1.0 in /usr/local/lib/python3.12/dist-packages (from soundfile) (1.17.1)\n",
            "Requirement already satisfied: pycparser in /usr/local/lib/python3.12/dist-packages (from cffi>=1.0->soundfile) (2.22)\n",
            "Requirement already satisfied: packaging in /usr/local/lib/python3.12/dist-packages (from lazy_loader>=0.1->librosa) (25.0)\n",
            "Requirement already satisfied: llvmlite<0.44,>=0.43.0dev0 in /usr/local/lib/python3.12/dist-packages (from numba>=0.51.0->librosa) (0.43.0)\n",
            "Requirement already satisfied: platformdirs>=2.5.0 in /usr/local/lib/python3.12/dist-packages (from pooch>=1.1->librosa) (4.4.0)\n",
            "Requirement already satisfied: requests>=2.19.0 in /usr/local/lib/python3.12/dist-packages (from pooch>=1.1->librosa) (2.32.4)\n",
            "Requirement already satisfied: threadpoolctl>=3.1.0 in /usr/local/lib/python3.12/dist-packages (from scikit-learn>=1.1.0->librosa) (3.6.0)\n",
            "Requirement already satisfied: charset_normalizer<4,>=2 in /usr/local/lib/python3.12/dist-packages (from requests>=2.19.0->pooch>=1.1->librosa) (3.4.3)\n",
            "Requirement already satisfied: idna<4,>=2.5 in /usr/local/lib/python3.12/dist-packages (from requests>=2.19.0->pooch>=1.1->librosa) (3.10)\n",
            "Requirement already satisfied: urllib3<3,>=1.21.1 in /usr/local/lib/python3.12/dist-packages (from requests>=2.19.0->pooch>=1.1->librosa) (2.5.0)\n",
            "Requirement already satisfied: certifi>=2017.4.17 in /usr/local/lib/python3.12/dist-packages (from requests>=2.19.0->pooch>=1.1->librosa) (2025.8.3)\n"
          ]
        }
      ]
    },
    {
      "cell_type": "code",
      "source": [
        "import time\n",
        "import torch\n",
        "import torchaudio\n",
        "import librosa\n",
        "import numpy as np\n",
        "import soundfile as sf\n",
        "\n",
        "# Method 1: The torchaudio-based preprocessing function\n",
        "def preprocess_audio_torchaudio(input_wav, target_sr=16000):\n",
        "    # Load audio\n",
        "    audio, sr = torchaudio.load(input_wav)\n",
        "\n",
        "    # Convert to mono\n",
        "    if audio.shape[0] > 1:\n",
        "        audio = torch.mean(audio, dim=0, keepdim=True)\n",
        "\n",
        "    # Resample\n",
        "    if sr != target_sr:\n",
        "        resampler = torchaudio.transforms.Resample(sr, target_sr)\n",
        "        audio = resampler(audio)\n",
        "\n",
        "    # Normalize\n",
        "    audio = audio / audio.abs().max()\n",
        "\n",
        "    # Save preprocessed file\n",
        "    preprocessed_path = input_wav.replace(\".wav\", f\"_preprocessed_{target_sr}.wav\")\n",
        "    torchaudio.save(preprocessed_path, audio, target_sr)\n",
        "\n",
        "    return preprocessed_path"
      ],
      "metadata": {
        "id": "SiPZl5-NOoC-"
      },
      "execution_count": 12,
      "outputs": []
    },
    {
      "cell_type": "code",
      "source": [
        "# Method 2: The more efficient librosa-based preprocessing function\n",
        "def preprocess_audio_librosa(input_wav, target_sr=16000):\n",
        "    # Load, resample, and convert to mono in one step\n",
        "    audio, sr = librosa.load(input_wav, sr=target_sr, mono=True)\n",
        "\n",
        "    # Trim silence\n",
        "    audio, _ = librosa.effects.trim(audio)\n",
        "\n",
        "    # Convert to a PyTorch tensor\n",
        "    audio_tensor = torch.from_numpy(audio)\n",
        "\n",
        "    # Save preprocessed file\n",
        "    preprocessed_path = input_wav.replace(\".wav\", f\"_preprocessed_{target_sr}_librosa.wav\")\n",
        "    sf.write(preprocessed_path, audio, target_sr)\n",
        "\n",
        "    return preprocessed_path\n"
      ],
      "metadata": {
        "id": "dLKvUUnaO1vd"
      },
      "execution_count": 13,
      "outputs": []
    },
    {
      "cell_type": "code",
      "source": [
        "# enter your downloaded audio path\n",
        "audio_file_path = raw_audio\n",
        "\n",
        "# --- Test the torchaudio method ---\n",
        "start_time_torch = time.time()\n",
        "preprocess_audio_torchaudio(audio_file_path)\n",
        "end_time_torch = time.time()\n",
        "torch_duration = end_time_torch - start_time_torch\n",
        "print(f\"torchaudio method took: {torch_duration:.4f} seconds\")\n",
        "\n",
        "# --- Test the librosa method ---\n",
        "start_time_librosa = time.time()\n",
        "preprocess_audio_librosa(audio_file_path)\n",
        "end_time_librosa = time.time()\n",
        "librosa_duration = end_time_librosa - start_time_librosa\n",
        "print(f\"librosa method took: {librosa_duration:.4f} seconds\")"
      ],
      "metadata": {
        "colab": {
          "base_uri": "https://localhost:8080/"
        },
        "id": "OWnd8_4dO85Z",
        "outputId": "2372e6f1-b517-4489-a8cb-499e54d48387"
      },
      "execution_count": 14,
      "outputs": [
        {
          "output_type": "stream",
          "name": "stderr",
          "text": [
            "/usr/local/lib/python3.12/dist-packages/torchaudio/_backend/utils.py:213: UserWarning: In 2.9, this function's implementation will be changed to use torchaudio.load_with_torchcodec` under the hood. Some parameters like ``normalize``, ``format``, ``buffer_size``, and ``backend`` will be ignored. We recommend that you port your code to rely directly on TorchCodec's decoder instead: https://docs.pytorch.org/torchcodec/stable/generated/torchcodec.decoders.AudioDecoder.html#torchcodec.decoders.AudioDecoder.\n",
            "  warnings.warn(\n",
            "/usr/local/lib/python3.12/dist-packages/torchaudio/_backend/ffmpeg.py:88: UserWarning: torio.io._streaming_media_decoder.StreamingMediaDecoder has been deprecated. This deprecation is part of a large refactoring effort to transition TorchAudio into a maintenance phase. The decoding and encoding capabilities of PyTorch for both audio and video are being consolidated into TorchCodec. Please see https://github.com/pytorch/audio/issues/3902 for more information. It will be removed from the 2.9 release. \n",
            "  s = torchaudio.io.StreamReader(src, format, None, buffer_size)\n",
            "/usr/local/lib/python3.12/dist-packages/torchaudio/_backend/utils.py:337: UserWarning: In 2.9, this function's implementation will be changed to use torchaudio.save_with_torchcodec` under the hood. Some parameters like format, encoding, bits_per_sample, buffer_size, and ``backend`` will be ignored. We recommend that you port your code to rely directly on TorchCodec's encoder instead: https://docs.pytorch.org/torchcodec/stable/generated/torchcodec.encoders.AudioEncoder\n",
            "  warnings.warn(\n",
            "/usr/local/lib/python3.12/dist-packages/torchaudio/_backend/ffmpeg.py:247: UserWarning: torio.io._streaming_media_encoder.StreamingMediaEncoder has been deprecated. This deprecation is part of a large refactoring effort to transition TorchAudio into a maintenance phase. The decoding and encoding capabilities of PyTorch for both audio and video are being consolidated into TorchCodec. Please see https://github.com/pytorch/audio/issues/3902 for more information. It will be removed from the 2.9 release. \n",
            "  s = torchaudio.io.StreamWriter(uri, format=muxer, buffer_size=buffer_size)\n"
          ]
        },
        {
          "output_type": "stream",
          "name": "stdout",
          "text": [
            "torchaudio method took: 0.4563 seconds\n",
            "librosa method took: 0.2959 seconds\n"
          ]
        }
      ]
    },
    {
      "cell_type": "code",
      "source": [
        "if torch_duration < librosa_duration:\n",
        "    print(\"The torchaudio method was faster.\")\n",
        "else:\n",
        "    print(\"The librosa method was faster.\")"
      ],
      "metadata": {
        "colab": {
          "base_uri": "https://localhost:8080/"
        },
        "id": "y6mZ2SPQPSQS",
        "outputId": "b8e816c9-9ec7-4328-c151-edd49a77c0f4"
      },
      "execution_count": 15,
      "outputs": [
        {
          "output_type": "stream",
          "name": "stdout",
          "text": [
            "The librosa method was faster.\n"
          ]
        }
      ]
    },
    {
      "cell_type": "code",
      "source": [],
      "metadata": {
        "id": "_kMrU43pRmGm"
      },
      "execution_count": null,
      "outputs": []
    }
  ]
}